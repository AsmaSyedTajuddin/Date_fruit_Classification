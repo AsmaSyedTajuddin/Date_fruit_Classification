{
  "cells": [
    {
      "cell_type": "markdown",
      "id": "d494a984",
      "metadata": {
        "papermill": {
          "duration": 0.024063,
          "end_time": "2022-05-08T09:51:29.529285",
          "exception": false,
          "start_time": "2022-05-08T09:51:29.505222",
          "status": "completed"
        },
        "tags": [],
        "id": "d494a984"
      },
      "source": [
        "<h2 style=\"background-color:#101820FF;font-family:newtimeroman;font-size:250%;text-align:center;border-radius: 10px 10px;color:#FEE715FF\">Welcome</h2>\n",
        "\n",
        "<h4><center>In this notebook, we will do classification by tuning the parameters of the xgboost algorithm.</center></h4>\n",
        "<br>\n",
        "\n",
        "<b>Dataset Abstract:</b> A great number of fruits are grown around the world, each of which has various types. The factors that determine the type of fruit are the external appearance features such as color, length, diameter, and shape. The external appearance of the fruits is a major determinant of the fruit type. Determining the variety of fruits by looking at their external appearance may necessitate expertise, which is time-consuming and requires great effort. The aim of this study is to classify the types of date fruit, that are, Barhee, Deglet Nour, Sukkary, Rotab Mozafati, Ruthana, Safawi, and Sagai by using three different machine learning methods. In accordance with this purpose, 898 images of seven different date fruit types were obtained via the computer vision system (CVS). Through image processing techniques, a total of 34 features, including morphological features, shape, and color, were extracted from these images. First, models were developed by using the logistic regression (LR) and artificial neural network (ANN) methods, which are among the machine learning methods. Performance results achieved with these methods are 91.0% and 92.2%, respectively. Then, with the stacking model created by combining these models, the performance result was increased to 92.8%. It has been concluded that machine learning methods can be applied successfully for the classification of date fruit types."
      ]
    },
    {
      "cell_type": "markdown",
      "id": "17ef3681",
      "metadata": {
        "papermill": {
          "duration": 0.022343,
          "end_time": "2022-05-08T09:51:29.574297",
          "exception": false,
          "start_time": "2022-05-08T09:51:29.551954",
          "status": "completed"
        },
        "tags": [],
        "id": "17ef3681"
      },
      "source": [
        "<h2 style=\"background-color:#101820FF;font-family:newtimeroman;font-size:180%;border-radius: 5px 5px;color:#FEE715FF\">Import</h2>"
      ]
    },
    {
      "cell_type": "code",
      "execution_count": 1,
      "id": "5eb39ef2",
      "metadata": {
        "_cell_guid": "b1076dfc-b9ad-4769-8c92-a6c4dae69d19",
        "_uuid": "8f2839f25d086af736a60e9eeb907d3b93b6e0e5",
        "execution": {
          "iopub.execute_input": "2022-05-08T09:51:29.624281Z",
          "iopub.status.busy": "2022-05-08T09:51:29.623465Z",
          "iopub.status.idle": "2022-05-08T09:51:31.176805Z",
          "shell.execute_reply": "2022-05-08T09:51:31.175727Z"
        },
        "papermill": {
          "duration": 1.582819,
          "end_time": "2022-05-08T09:51:31.179887",
          "exception": false,
          "start_time": "2022-05-08T09:51:29.597068",
          "status": "completed"
        },
        "tags": [],
        "id": "5eb39ef2"
      },
      "outputs": [],
      "source": [
        "import numpy as np \n",
        "import pandas as pd \n",
        "import seaborn as sns\n",
        "\n",
        "from sklearn.preprocessing import LabelEncoder\n",
        "from sklearn.model_selection import train_test_split,RandomizedSearchCV, StratifiedKFold\n",
        "from sklearn.metrics import accuracy_score, f1_score, recall_score, confusion_matrix\n",
        "\n",
        "from xgboost import XGBClassifier"
      ]
    },
    {
      "cell_type": "code",
      "execution_count": 3,
      "id": "ebdb6e02",
      "metadata": {
        "_kg_hide-output": true,
        "execution": {
          "iopub.execute_input": "2022-05-08T09:51:31.228250Z",
          "iopub.status.busy": "2022-05-08T09:51:31.227903Z",
          "iopub.status.idle": "2022-05-08T09:51:47.550197Z",
          "shell.execute_reply": "2022-05-08T09:51:47.549085Z"
        },
        "papermill": {
          "duration": 16.350194,
          "end_time": "2022-05-08T09:51:47.553578",
          "exception": false,
          "start_time": "2022-05-08T09:51:31.203384",
          "status": "completed"
        },
        "tags": [],
        "colab": {
          "base_uri": "https://localhost:8080/"
        },
        "id": "ebdb6e02",
        "outputId": "bf2e15d5-2127-4cde-8cd7-41d8c105fcb1"
      },
      "outputs": [
        {
          "output_type": "stream",
          "name": "stdout",
          "text": [
            "Looking in indexes: https://pypi.org/simple, https://us-python.pkg.dev/colab-wheels/public/simple/\n",
            "Requirement already satisfied: openpyxl in /usr/local/lib/python3.7/dist-packages (3.0.10)\n",
            "Requirement already satisfied: et-xmlfile in /usr/local/lib/python3.7/dist-packages (from openpyxl) (1.1.0)\n"
          ]
        }
      ],
      "source": [
        "!pip install openpyxl # to read excel file\n",
        "\n",
        "data_path = \"Date_Fruit_Datasets.xlsx\"\n",
        "data=pd.read_excel(data_path)\n",
        "\n",
        "df = data.copy()"
      ]
    },
    {
      "cell_type": "markdown",
      "id": "f5e8127e",
      "metadata": {
        "papermill": {
          "duration": 0.029721,
          "end_time": "2022-05-08T09:51:47.613619",
          "exception": false,
          "start_time": "2022-05-08T09:51:47.583898",
          "status": "completed"
        },
        "tags": [],
        "id": "f5e8127e"
      },
      "source": [
        "<h2 style=\"background-color:#101820FF;font-family:newtimeroman;font-size:180%;border-radius: 5px 5px;color:#FEE715FF\">First Look at The Dataset</h2>"
      ]
    },
    {
      "cell_type": "code",
      "execution_count": 4,
      "id": "38c1f738",
      "metadata": {
        "execution": {
          "iopub.execute_input": "2022-05-08T09:51:47.675038Z",
          "iopub.status.busy": "2022-05-08T09:51:47.674656Z",
          "iopub.status.idle": "2022-05-08T09:51:47.682354Z",
          "shell.execute_reply": "2022-05-08T09:51:47.681378Z"
        },
        "papermill": {
          "duration": 0.041686,
          "end_time": "2022-05-08T09:51:47.684391",
          "exception": false,
          "start_time": "2022-05-08T09:51:47.642705",
          "status": "completed"
        },
        "tags": [],
        "id": "38c1f738"
      },
      "outputs": [],
      "source": [
        "def InfoData(dataframe,target_variable = None):\n",
        "    \n",
        "    print(f\"\"\"\n",
        "== DATA INFO ==\n",
        "* Shape: {dataframe.shape}\n",
        "* Number of data = {dataframe.shape[0]}\n",
        "\n",
        "\n",
        "== COLUMNS INFO ==\n",
        "* Number of columns: {len(dataframe.columns)}\n",
        "* Columns with dtype: \n",
        "{dataframe.dtypes}\n",
        "\n",
        "\n",
        "== Missing / Nan Values ==\n",
        "* Is there any missing value?: {dataframe.isnull().values.any()}\n",
        "    \"\"\")\n",
        "    \n",
        "    if (target_variable != None) and (target_variable in dataframe.columns):    \n",
        "        \n",
        "        print(f\"\"\"\n",
        "== TARGET VARIABLE ==\n",
        "\n",
        "* Variable: {target_variable}\n",
        "* Values of Variable: {\" - \".join(df.Class.unique())}\n",
        "* Count of Values: {len(df.Class.unique())}\n",
        "\"\"\")\n",
        "        \n",
        "        \n",
        "        \n",
        "    elif (target_variable != None) and (target_variable not in dataframe.columns): \n",
        "        print(\"Please type correctly your target variable\")\n",
        "        "
      ]
    },
    {
      "cell_type": "code",
      "execution_count": 5,
      "id": "3ec0b729",
      "metadata": {
        "execution": {
          "iopub.execute_input": "2022-05-08T09:51:47.744878Z",
          "iopub.status.busy": "2022-05-08T09:51:47.744569Z",
          "iopub.status.idle": "2022-05-08T09:51:47.762323Z",
          "shell.execute_reply": "2022-05-08T09:51:47.760812Z"
        },
        "papermill": {
          "duration": 0.051118,
          "end_time": "2022-05-08T09:51:47.765429",
          "exception": false,
          "start_time": "2022-05-08T09:51:47.714311",
          "status": "completed"
        },
        "tags": [],
        "colab": {
          "base_uri": "https://localhost:8080/"
        },
        "id": "3ec0b729",
        "outputId": "fda19149-23f1-4f34-d3f8-831a11b4cf82"
      },
      "outputs": [
        {
          "output_type": "stream",
          "name": "stdout",
          "text": [
            "\n",
            "== DATA INFO ==\n",
            "* Shape: (898, 35)\n",
            "* Number of data = 898\n",
            "\n",
            "\n",
            "== COLUMNS INFO ==\n",
            "* Number of columns: 35\n",
            "* Columns with dtype: \n",
            "AREA               int64\n",
            "PERIMETER        float64\n",
            "MAJOR_AXIS       float64\n",
            "MINOR_AXIS       float64\n",
            "ECCENTRICITY     float64\n",
            "EQDIASQ          float64\n",
            "SOLIDITY         float64\n",
            "CONVEX_AREA        int64\n",
            "EXTENT           float64\n",
            "ASPECT_RATIO     float64\n",
            "ROUNDNESS        float64\n",
            "COMPACTNESS      float64\n",
            "SHAPEFACTOR_1    float64\n",
            "SHAPEFACTOR_2    float64\n",
            "SHAPEFACTOR_3    float64\n",
            "SHAPEFACTOR_4    float64\n",
            "MeanRR           float64\n",
            "MeanRG           float64\n",
            "MeanRB           float64\n",
            "StdDevRR         float64\n",
            "StdDevRG         float64\n",
            "StdDevRB         float64\n",
            "SkewRR           float64\n",
            "SkewRG           float64\n",
            "SkewRB           float64\n",
            "KurtosisRR       float64\n",
            "KurtosisRG       float64\n",
            "KurtosisRB       float64\n",
            "EntropyRR          int64\n",
            "EntropyRG          int64\n",
            "EntropyRB          int64\n",
            "ALLdaub4RR       float64\n",
            "ALLdaub4RG       float64\n",
            "ALLdaub4RB       float64\n",
            "Class             object\n",
            "dtype: object\n",
            "\n",
            "\n",
            "== Missing / Nan Values ==\n",
            "* Is there any missing value?: False\n",
            "    \n",
            "\n",
            "== TARGET VARIABLE ==\n",
            "\n",
            "* Variable: Class\n",
            "* Values of Variable: BERHI - DEGLET - DOKOL - IRAQI - ROTANA - SAFAVI - SOGAY\n",
            "* Count of Values: 7\n",
            "\n"
          ]
        }
      ],
      "source": [
        "InfoData(df,\"Class\")"
      ]
    },
    {
      "cell_type": "code",
      "execution_count": 6,
      "id": "549d30a4",
      "metadata": {
        "execution": {
          "iopub.execute_input": "2022-05-08T09:51:47.830970Z",
          "iopub.status.busy": "2022-05-08T09:51:47.830591Z",
          "iopub.status.idle": "2022-05-08T09:51:47.871775Z",
          "shell.execute_reply": "2022-05-08T09:51:47.870079Z"
        },
        "papermill": {
          "duration": 0.076443,
          "end_time": "2022-05-08T09:51:47.874077",
          "exception": false,
          "start_time": "2022-05-08T09:51:47.797634",
          "status": "completed"
        },
        "tags": [],
        "colab": {
          "base_uri": "https://localhost:8080/"
        },
        "id": "549d30a4",
        "outputId": "c4f8517f-4f9c-495e-b46d-21fbabd2c7e3"
      },
      "outputs": [
        {
          "output_type": "stream",
          "name": "stdout",
          "text": [
            "AREA: | Min: 1987.0000 | Max: 546063.0000 | Std: 107245.2053 | Mean: 298295.2071\n",
            "PERIMETER: | Min: 911.8280 | Max: 2811.9971 | Std: 410.0125 | Mean: 2057.6610\n",
            "MAJOR_AXIS: | Min: 336.7227 | Max: 1222.7230 | Std: 144.0593 | Mean: 750.8120\n",
            "MINOR_AXIS: | Min: 2.2832 | Max: 766.4536 | Std: 114.2689 | Mean: 495.8728\n",
            "ECCENTRICITY: | Min: 0.3448 | Max: 1.0000 | Std: 0.0887 | Mean: 0.7375\n",
            "EQDIASQ: | Min: 50.2984 | Max: 833.8279 | Std: 119.5939 | Mean: 604.5779\n",
            "SOLIDITY: | Min: 0.8366 | Max: 0.9974 | Std: 0.0182 | Mean: 0.9818\n",
            "CONVEX_AREA: | Min: 2257.0000 | Max: 552598.0000 | Std: 108815.6569 | Mean: 303845.5924\n",
            "EXTENT: | Min: 0.5123 | Max: 0.8562 | Std: 0.0537 | Mean: 0.7363\n",
            "ASPECT_RATIO: | Min: 1.0653 | Max: 535.5257 | Std: 17.8208 | Mean: 2.1311\n",
            "ROUNDNESS: | Min: 0.0048 | Max: 0.9773 | Std: 0.0708 | Mean: 0.8577\n",
            "COMPACTNESS: | Min: 0.0411 | Max: 0.9681 | Std: 0.0622 | Mean: 0.8072\n",
            "SHAPEFACTOR_1: | Min: 0.0017 | Max: 0.6154 | Std: 0.0205 | Mean: 0.0034\n",
            "SHAPEFACTOR_2: | Min: 0.0011 | Max: 0.0043 | Std: 0.0004 | Mean: 0.0018\n",
            "SHAPEFACTOR_3: | Min: 0.0017 | Max: 0.9373 | Std: 0.0943 | Mean: 0.6554\n",
            "SHAPEFACTOR_4: | Min: 0.7568 | Max: 0.9995 | Std: 0.0205 | Mean: 0.9887\n",
            "MeanRR: | Min: 30.3826 | Max: 159.6494 | Std: 32.1265 | Mean: 100.1659\n",
            "MeanRG: | Min: 41.0480 | Max: 166.1354 | Std: 28.2518 | Mean: 97.6094\n",
            "MeanRB: | Min: 44.2569 | Max: 148.2114 | Std: 21.6274 | Mean: 96.1949\n",
            "StdDevRR: | Min: 7.3038 | Max: 48.5712 | Std: 6.3069 | Mean: 29.0474\n",
            "StdDevRG: | Min: 8.6557 | Max: 45.5107 | Std: 5.4622 | Mean: 26.3834\n",
            "StdDevRB: | Min: 5.1486 | Max: 42.4228 | Std: 4.9051 | Mean: 26.1483\n",
            "SkewRR: | Min: -1.7242 | Max: 3.2236 | Std: 0.9433 | Mean: 0.0893\n",
            "SkewRG: | Min: -1.8344 | Max: 3.6971 | Std: 1.0398 | Mean: 0.5641\n",
            "SkewRB: | Min: -1.0291 | Max: 3.0923 | Std: 0.6329 | Mean: 0.2505\n",
            "KurtosisRR: | Min: 1.7082 | Max: 26.1711 | Std: 2.8924 | Mean: 4.2478\n",
            "KurtosisRG: | Min: 1.6076 | Max: 26.7367 | Std: 3.7455 | Mean: 5.1109\n",
            "KurtosisRB: | Min: 1.7672 | Max: 32.2495 | Std: 2.0498 | Mean: 3.7809\n",
            "EntropyRR: | Min: -109122420736.0000 | Max: -162731632.0000 | Std: 20372411642.7532 | Mean: -31850206242.6192\n",
            "EntropyRG: | Min: -92616974336.0000 | Max: -562772672.0000 | Std: 17129522646.0455 | Mean: -29018599755.4744\n",
            "EntropyRB: | Min: -87471767552.0000 | Max: -437043456.0000 | Std: 14841374790.1303 | Mean: -27718762813.8619\n",
            "ALLdaub4RR: | Min: 15.1911 | Max: 79.8289 | Std: 16.0631 | Mean: 50.0829\n",
            "ALLdaub4RG: | Min: 20.5247 | Max: 83.0649 | Std: 14.1259 | Mean: 48.8057\n",
            "ALLdaub4RB: | Min: 22.1300 | Max: 74.1046 | Std: 10.8139 | Mean: 48.0984\n"
          ]
        }
      ],
      "source": [
        "for i in df.columns[:-1]: # I dont want to / can not see last column(\"Class\") because it is target variable and it is an object\n",
        "    print(f\"{i}: | Min: {df[i].min():.4f} | Max: {df[i].max():.4f} | Std: {df[i].std():.4f} | Mean: {(df[i].mean()):.4f}\")"
      ]
    },
    {
      "cell_type": "markdown",
      "id": "3e23c8f1",
      "metadata": {
        "papermill": {
          "duration": 0.029195,
          "end_time": "2022-05-08T09:51:47.932892",
          "exception": false,
          "start_time": "2022-05-08T09:51:47.903697",
          "status": "completed"
        },
        "tags": [],
        "id": "3e23c8f1"
      },
      "source": [
        "<h2 style=\"background-color:#101820FF;font-family:newtimeroman;font-size:180%;border-radius: 5px 5px;color:#FEE715FF\">Preprocessing</h2>"
      ]
    },
    {
      "cell_type": "code",
      "execution_count": 7,
      "id": "bf05ff9d",
      "metadata": {
        "execution": {
          "iopub.execute_input": "2022-05-08T09:51:47.995481Z",
          "iopub.status.busy": "2022-05-08T09:51:47.995144Z",
          "iopub.status.idle": "2022-05-08T09:51:48.000603Z",
          "shell.execute_reply": "2022-05-08T09:51:47.999695Z"
        },
        "papermill": {
          "duration": 0.040981,
          "end_time": "2022-05-08T09:51:48.003353",
          "exception": false,
          "start_time": "2022-05-08T09:51:47.962372",
          "status": "completed"
        },
        "tags": [],
        "id": "bf05ff9d"
      },
      "outputs": [],
      "source": [
        "le = LabelEncoder()\n",
        "target = df['Class']\n",
        "target = le.fit_transform(target)"
      ]
    },
    {
      "cell_type": "code",
      "execution_count": 8,
      "id": "934b2388",
      "metadata": {
        "execution": {
          "iopub.execute_input": "2022-05-08T09:51:48.070429Z",
          "iopub.status.busy": "2022-05-08T09:51:48.070091Z",
          "iopub.status.idle": "2022-05-08T09:51:48.079509Z",
          "shell.execute_reply": "2022-05-08T09:51:48.078526Z"
        },
        "papermill": {
          "duration": 0.045222,
          "end_time": "2022-05-08T09:51:48.081820",
          "exception": false,
          "start_time": "2022-05-08T09:51:48.036598",
          "status": "completed"
        },
        "tags": [],
        "id": "934b2388"
      },
      "outputs": [],
      "source": [
        "X = df.drop(\"Class\",axis=1)"
      ]
    },
    {
      "cell_type": "code",
      "execution_count": 9,
      "id": "972e11d1",
      "metadata": {
        "execution": {
          "iopub.execute_input": "2022-05-08T09:51:48.142885Z",
          "iopub.status.busy": "2022-05-08T09:51:48.142552Z",
          "iopub.status.idle": "2022-05-08T09:51:48.146990Z",
          "shell.execute_reply": "2022-05-08T09:51:48.146040Z"
        },
        "papermill": {
          "duration": 0.037598,
          "end_time": "2022-05-08T09:51:48.149048",
          "exception": false,
          "start_time": "2022-05-08T09:51:48.111450",
          "status": "completed"
        },
        "tags": [],
        "id": "972e11d1"
      },
      "outputs": [],
      "source": [
        "train_test_split_params = {\"test_size\":0.33,\n",
        "                        \"random_state\":1}"
      ]
    },
    {
      "cell_type": "code",
      "execution_count": 10,
      "id": "781a5bfb",
      "metadata": {
        "execution": {
          "iopub.execute_input": "2022-05-08T09:51:48.210827Z",
          "iopub.status.busy": "2022-05-08T09:51:48.210467Z",
          "iopub.status.idle": "2022-05-08T09:51:48.218608Z",
          "shell.execute_reply": "2022-05-08T09:51:48.217804Z"
        },
        "papermill": {
          "duration": 0.041148,
          "end_time": "2022-05-08T09:51:48.220487",
          "exception": false,
          "start_time": "2022-05-08T09:51:48.179339",
          "status": "completed"
        },
        "tags": [],
        "id": "781a5bfb"
      },
      "outputs": [],
      "source": [
        "X_train, X_test, y_train, y_test = train_test_split(X, target,\n",
        "                                                    test_size=train_test_split_params[\"test_size\"],\n",
        "                                                    random_state=train_test_split_params[\"random_state\"],\n",
        "                                                    shuffle=True)"
      ]
    },
    {
      "cell_type": "code",
      "execution_count": 11,
      "id": "7f16f9f0",
      "metadata": {
        "execution": {
          "iopub.execute_input": "2022-05-08T09:51:48.282498Z",
          "iopub.status.busy": "2022-05-08T09:51:48.282183Z",
          "iopub.status.idle": "2022-05-08T09:51:48.287771Z",
          "shell.execute_reply": "2022-05-08T09:51:48.286616Z"
        },
        "papermill": {
          "duration": 0.04031,
          "end_time": "2022-05-08T09:51:48.290451",
          "exception": false,
          "start_time": "2022-05-08T09:51:48.250141",
          "status": "completed"
        },
        "tags": [],
        "colab": {
          "base_uri": "https://localhost:8080/"
        },
        "id": "7f16f9f0",
        "outputId": "96bad519-7db0-4b8c-a6f9-9fe1b54429bf"
      },
      "outputs": [
        {
          "output_type": "stream",
          "name": "stdout",
          "text": [
            "\n",
            "X_train shape: (601, 34)\n",
            "X_test shape: (297, 34)\n",
            "y_train shape: (601,)\n",
            "y_test shape: (297,)\n",
            "\n"
          ]
        }
      ],
      "source": [
        "print(f\"\"\"\n",
        "X_train shape: {X_train.shape}\n",
        "X_test shape: {X_test.shape}\n",
        "y_train shape: {y_train.shape}\n",
        "y_test shape: {y_test.shape}\n",
        "\"\"\")"
      ]
    },
    {
      "cell_type": "markdown",
      "id": "2e552cee",
      "metadata": {
        "papermill": {
          "duration": 0.033247,
          "end_time": "2022-05-08T09:51:48.356532",
          "exception": false,
          "start_time": "2022-05-08T09:51:48.323285",
          "status": "completed"
        },
        "tags": [],
        "id": "2e552cee"
      },
      "source": [
        "<h2 style=\"background-color:#101820FF;font-family:newtimeroman;font-size:180%;border-radius: 5px 5px;color:#FEE715FF\">Model</h2>"
      ]
    },
    {
      "cell_type": "markdown",
      "id": "ad513502",
      "metadata": {
        "papermill": {
          "duration": 0.03086,
          "end_time": "2022-05-08T09:51:48.417382",
          "exception": false,
          "start_time": "2022-05-08T09:51:48.386522",
          "status": "completed"
        },
        "tags": [],
        "id": "ad513502"
      },
      "source": [
        "#### Notes:\n",
        "##### * I will use \"RandomizeGridSearch\" to select parameters\n",
        "##### * I will use \"StratifiedKFold\" because we are dealing with imbalanced class distributions. (You can see below)"
      ]
    },
    {
      "cell_type": "code",
      "execution_count": 12,
      "id": "c82a0669",
      "metadata": {
        "execution": {
          "iopub.execute_input": "2022-05-08T09:51:48.481084Z",
          "iopub.status.busy": "2022-05-08T09:51:48.480729Z",
          "iopub.status.idle": "2022-05-08T09:51:48.755872Z",
          "shell.execute_reply": "2022-05-08T09:51:48.754891Z"
        },
        "papermill": {
          "duration": 0.310956,
          "end_time": "2022-05-08T09:51:48.758472",
          "exception": false,
          "start_time": "2022-05-08T09:51:48.447516",
          "status": "completed"
        },
        "tags": [],
        "colab": {
          "base_uri": "https://localhost:8080/",
          "height": 265
        },
        "id": "c82a0669",
        "outputId": "da434975-7b8d-471b-a76a-345c2b79f619"
      },
      "outputs": [
        {
          "output_type": "display_data",
          "data": {
            "text/plain": [
              "<Figure size 432x288 with 1 Axes>"
            ],
            "image/png": "[encoded data removed]"
          },
          "metadata": {
            "needs_background": "light"
          }
        }
      ],
      "source": [
        "sns.barplot(y=df[\"Class\"].value_counts().index,x=df[\"Class\"].value_counts().values);"
      ]
    },
    {
      "cell_type": "code",
      "execution_count": 13,
      "id": "07053f17",
      "metadata": {
        "execution": {
          "iopub.execute_input": "2022-05-08T09:51:48.824754Z",
          "iopub.status.busy": "2022-05-08T09:51:48.824418Z",
          "iopub.status.idle": "2022-05-08T09:51:48.830457Z",
          "shell.execute_reply": "2022-05-08T09:51:48.829569Z"
        },
        "papermill": {
          "duration": 0.041857,
          "end_time": "2022-05-08T09:51:48.832791",
          "exception": false,
          "start_time": "2022-05-08T09:51:48.790934",
          "status": "completed"
        },
        "tags": [],
        "id": "07053f17"
      },
      "outputs": [],
      "source": [
        "params = {\n",
        "        'min_child_weight': [1, 5, 10],\n",
        "        'gamma': [0.5, 1, 1.5, 2, 5],\n",
        "        'eval_metric': [\"mlogloss\"],\n",
        "        'learning_rate': [0.01, 0.05, 0.1],\n",
        "        'subsample': [0.6, 0.8, 1.0],\n",
        "        'colsample_bytree': [0.6, 0.8, 1.0],\n",
        "        'max_depth': [0, 3, 4]\n",
        "        }"
      ]
    },
    {
      "cell_type": "code",
      "execution_count": 14,
      "id": "7d7394d7",
      "metadata": {
        "_kg_hide-input": true,
        "_kg_hide-output": true,
        "execution": {
          "iopub.execute_input": "2022-05-08T09:51:48.899391Z",
          "iopub.status.busy": "2022-05-08T09:51:48.899046Z",
          "iopub.status.idle": "2022-05-08T09:52:03.801604Z",
          "shell.execute_reply": "2022-05-08T09:52:03.800809Z"
        },
        "papermill": {
          "duration": 14.939422,
          "end_time": "2022-05-08T09:52:03.804167",
          "exception": false,
          "start_time": "2022-05-08T09:51:48.864745",
          "status": "completed"
        },
        "tags": [],
        "colab": {
          "base_uri": "https://localhost:8080/"
        },
        "id": "7d7394d7",
        "outputId": "c19556ce-3338-4440-f98a-d1b2996966ee"
      },
      "outputs": [
        {
          "output_type": "stream",
          "name": "stdout",
          "text": [
            "Fitting 5 folds for each of 5 candidates, totalling 25 fits\n",
            "[CV 1/5] END colsample_bytree=1.0, eval_metric=mlogloss, gamma=2, learning_rate=0.01, max_depth=0, min_child_weight=10, subsample=1.0;, score=0.240 total time=   0.2s\n",
            "[CV 2/5] END colsample_bytree=1.0, eval_metric=mlogloss, gamma=2, learning_rate=0.01, max_depth=0, min_child_weight=10, subsample=1.0;, score=0.233 total time=   0.1s\n",
            "[CV 3/5] END colsample_bytree=1.0, eval_metric=mlogloss, gamma=2, learning_rate=0.01, max_depth=0, min_child_weight=10, subsample=1.0;, score=0.233 total time=   0.1s\n",
            "[CV 4/5] END colsample_bytree=1.0, eval_metric=mlogloss, gamma=2, learning_rate=0.01, max_depth=0, min_child_weight=10, subsample=1.0;, score=0.233 total time=   0.1s\n",
            "[CV 5/5] END colsample_bytree=1.0, eval_metric=mlogloss, gamma=2, learning_rate=0.01, max_depth=0, min_child_weight=10, subsample=1.0;, score=0.242 total time=   0.1s\n",
            "[CV 1/5] END colsample_bytree=0.6, eval_metric=mlogloss, gamma=1.5, learning_rate=0.1, max_depth=4, min_child_weight=1, subsample=0.8;, score=0.868 total time=   0.5s\n",
            "[CV 2/5] END colsample_bytree=0.6, eval_metric=mlogloss, gamma=1.5, learning_rate=0.1, max_depth=4, min_child_weight=1, subsample=0.8;, score=0.917 total time=   0.6s\n",
            "[CV 3/5] END colsample_bytree=0.6, eval_metric=mlogloss, gamma=1.5, learning_rate=0.1, max_depth=4, min_child_weight=1, subsample=0.8;, score=0.892 total time=   0.5s\n",
            "[CV 4/5] END colsample_bytree=0.6, eval_metric=mlogloss, gamma=1.5, learning_rate=0.1, max_depth=4, min_child_weight=1, subsample=0.8;, score=0.900 total time=   0.5s\n",
            "[CV 5/5] END colsample_bytree=0.6, eval_metric=mlogloss, gamma=1.5, learning_rate=0.1, max_depth=4, min_child_weight=1, subsample=0.8;, score=0.867 total time=   0.5s\n",
            "[CV 1/5] END colsample_bytree=1.0, eval_metric=mlogloss, gamma=2, learning_rate=0.05, max_depth=3, min_child_weight=10, subsample=0.8;, score=0.860 total time=   0.5s\n",
            "[CV 2/5] END colsample_bytree=1.0, eval_metric=mlogloss, gamma=2, learning_rate=0.05, max_depth=3, min_child_weight=10, subsample=0.8;, score=0.858 total time=   0.5s\n",
            "[CV 3/5] END colsample_bytree=1.0, eval_metric=mlogloss, gamma=2, learning_rate=0.05, max_depth=3, min_child_weight=10, subsample=0.8;, score=0.933 total time=   0.5s\n",
            "[CV 4/5] END colsample_bytree=1.0, eval_metric=mlogloss, gamma=2, learning_rate=0.05, max_depth=3, min_child_weight=10, subsample=0.8;, score=0.883 total time=   0.5s\n",
            "[CV 5/5] END colsample_bytree=1.0, eval_metric=mlogloss, gamma=2, learning_rate=0.05, max_depth=3, min_child_weight=10, subsample=0.8;, score=0.833 total time=   0.5s\n",
            "[CV 1/5] END colsample_bytree=1.0, eval_metric=mlogloss, gamma=1, learning_rate=0.01, max_depth=3, min_child_weight=5, subsample=1.0;, score=0.843 total time=   0.7s\n",
            "[CV 2/5] END colsample_bytree=1.0, eval_metric=mlogloss, gamma=1, learning_rate=0.01, max_depth=3, min_child_weight=5, subsample=1.0;, score=0.875 total time=   0.7s\n",
            "[CV 3/5] END colsample_bytree=1.0, eval_metric=mlogloss, gamma=1, learning_rate=0.01, max_depth=3, min_child_weight=5, subsample=1.0;, score=0.858 total time=   0.7s\n",
            "[CV 4/5] END colsample_bytree=1.0, eval_metric=mlogloss, gamma=1, learning_rate=0.01, max_depth=3, min_child_weight=5, subsample=1.0;, score=0.875 total time=   0.7s\n",
            "[CV 5/5] END colsample_bytree=1.0, eval_metric=mlogloss, gamma=1, learning_rate=0.01, max_depth=3, min_child_weight=5, subsample=1.0;, score=0.825 total time=   0.7s\n",
            "[CV 1/5] END colsample_bytree=0.8, eval_metric=mlogloss, gamma=2, learning_rate=0.1, max_depth=3, min_child_weight=5, subsample=0.8;, score=0.876 total time=   0.4s\n",
            "[CV 2/5] END colsample_bytree=0.8, eval_metric=mlogloss, gamma=2, learning_rate=0.1, max_depth=3, min_child_weight=5, subsample=0.8;, score=0.917 total time=   0.5s\n",
            "[CV 3/5] END colsample_bytree=0.8, eval_metric=mlogloss, gamma=2, learning_rate=0.1, max_depth=3, min_child_weight=5, subsample=0.8;, score=0.917 total time=   0.4s\n",
            "[CV 4/5] END colsample_bytree=0.8, eval_metric=mlogloss, gamma=2, learning_rate=0.1, max_depth=3, min_child_weight=5, subsample=0.8;, score=0.892 total time=   0.5s\n",
            "[CV 5/5] END colsample_bytree=0.8, eval_metric=mlogloss, gamma=2, learning_rate=0.1, max_depth=3, min_child_weight=5, subsample=0.8;, score=0.850 total time=   0.4s\n"
          ]
        },
        {
          "output_type": "execute_result",
          "data": {
            "text/plain": [
              "RandomizedSearchCV(cv=<generator object _BaseKFold.split at 0x7f24c0334d50>,\n",
              "                   estimator=XGBClassifier(), n_iter=5,\n",
              "                   param_distributions={'colsample_bytree': [0.6, 0.8, 1.0],\n",
              "                                        'eval_metric': ['mlogloss'],\n",
              "                                        'gamma': [0.5, 1, 1.5, 2, 5],\n",
              "                                        'learning_rate': [0.01, 0.05, 0.1],\n",
              "                                        'max_depth': [0, 3, 4],\n",
              "                                        'min_child_weight': [1, 5, 10],\n",
              "                                        'subsample': [0.6, 0.8, 1.0]},\n",
              "                   random_state=1, verbose=3)"
            ]
          },
          "metadata": {},
          "execution_count": 14
        }
      ],
      "source": [
        "skf = StratifiedKFold(n_splits=5, shuffle = True, random_state = 1)\n",
        "\n",
        "randomized_search = RandomizedSearchCV(XGBClassifier(), param_distributions=params, n_iter=5, cv=skf.split(X_train,y_train), verbose=3, random_state=1)\n",
        "\n",
        "randomized_search.fit(X_train, y_train)"
      ]
    },
    {
      "cell_type": "code",
      "execution_count": 15,
      "id": "076f4ded",
      "metadata": {
        "execution": {
          "iopub.execute_input": "2022-05-08T09:52:03.888087Z",
          "iopub.status.busy": "2022-05-08T09:52:03.887385Z",
          "iopub.status.idle": "2022-05-08T09:52:03.893461Z",
          "shell.execute_reply": "2022-05-08T09:52:03.892581Z"
        },
        "papermill": {
          "duration": 0.050541,
          "end_time": "2022-05-08T09:52:03.895703",
          "exception": false,
          "start_time": "2022-05-08T09:52:03.845162",
          "status": "completed"
        },
        "tags": [],
        "colab": {
          "base_uri": "https://localhost:8080/"
        },
        "id": "076f4ded",
        "outputId": "bbb61320-07a2-49f4-ddbd-914fd0765435"
      },
      "outputs": [
        {
          "output_type": "stream",
          "name": "stdout",
          "text": [
            "Best hyperparameters: {'subsample': 0.8, 'min_child_weight': 5, 'max_depth': 3, 'learning_rate': 0.1, 'gamma': 2, 'eval_metric': 'mlogloss', 'colsample_bytree': 0.8}\n"
          ]
        }
      ],
      "source": [
        "print('Best hyperparameters:', randomized_search.best_params_)"
      ]
    },
    {
      "cell_type": "code",
      "execution_count": 16,
      "id": "65be7c45",
      "metadata": {
        "execution": {
          "iopub.execute_input": "2022-05-08T09:52:03.980442Z",
          "iopub.status.busy": "2022-05-08T09:52:03.980057Z",
          "iopub.status.idle": "2022-05-08T09:52:03.986167Z",
          "shell.execute_reply": "2022-05-08T09:52:03.985375Z"
        },
        "papermill": {
          "duration": 0.051277,
          "end_time": "2022-05-08T09:52:03.988580",
          "exception": false,
          "start_time": "2022-05-08T09:52:03.937303",
          "status": "completed"
        },
        "tags": [],
        "id": "65be7c45"
      },
      "outputs": [],
      "source": [
        "xgb = XGBClassifier(subsample = randomized_search.best_params_[\"subsample\"],\n",
        "                      min_child_weight = randomized_search.best_params_[\"min_child_weight\"],\n",
        "                      max_depth = randomized_search.best_params_[\"max_depth\"],\n",
        "                      learning_rate = randomized_search.best_params_[\"learning_rate\"],\n",
        "                      gamma = randomized_search.best_params_[\"gamma\"],\n",
        "                      eval_metric = randomized_search.best_params_[\"eval_metric\"],\n",
        "                      colsample_bytree = randomized_search.best_params_[\"colsample_bytree\"])"
      ]
    },
    {
      "cell_type": "code",
      "execution_count": 17,
      "id": "9619f4d7",
      "metadata": {
        "_kg_hide-input": false,
        "_kg_hide-output": true,
        "execution": {
          "iopub.execute_input": "2022-05-08T09:52:04.075539Z",
          "iopub.status.busy": "2022-05-08T09:52:04.074651Z",
          "iopub.status.idle": "2022-05-08T09:52:04.869254Z",
          "shell.execute_reply": "2022-05-08T09:52:04.868104Z"
        },
        "papermill": {
          "duration": 0.84063,
          "end_time": "2022-05-08T09:52:04.871755",
          "exception": false,
          "start_time": "2022-05-08T09:52:04.031125",
          "status": "completed"
        },
        "tags": [],
        "colab": {
          "base_uri": "https://localhost:8080/"
        },
        "id": "9619f4d7",
        "outputId": "22476418-8602-42e7-bc43-beb3d34ca3a5"
      },
      "outputs": [
        {
          "output_type": "execute_result",
          "data": {
            "text/plain": [
              "XGBClassifier(colsample_bytree=0.8, eval_metric='mlogloss', gamma=2,\n",
              "              min_child_weight=5, objective='multi:softprob', subsample=0.8)"
            ]
          },
          "metadata": {},
          "execution_count": 17
        }
      ],
      "source": [
        "xgb.fit(X_train, y_train)"
      ]
    },
    {
      "cell_type": "code",
      "execution_count": 18,
      "id": "783d3e24",
      "metadata": {
        "execution": {
          "iopub.execute_input": "2022-05-08T09:52:04.956338Z",
          "iopub.status.busy": "2022-05-08T09:52:04.955992Z",
          "iopub.status.idle": "2022-05-08T09:52:04.983162Z",
          "shell.execute_reply": "2022-05-08T09:52:04.982422Z"
        },
        "papermill": {
          "duration": 0.07243,
          "end_time": "2022-05-08T09:52:04.985785",
          "exception": false,
          "start_time": "2022-05-08T09:52:04.913355",
          "status": "completed"
        },
        "tags": [],
        "colab": {
          "base_uri": "https://localhost:8080/"
        },
        "id": "783d3e24",
        "outputId": "10c6368e-2cbe-4779-920a-fd25a8a09bd3"
      },
      "outputs": [
        {
          "output_type": "stream",
          "name": "stdout",
          "text": [
            "Train Accuracy:  0.9667221297836939\n",
            "Test Accuracy: 0.8686868686868687\n"
          ]
        }
      ],
      "source": [
        "train_pred = xgb.predict(X_train)\n",
        "train_acc = accuracy_score(y_train,train_pred)\n",
        "print('Train Accuracy: ', train_acc)\n",
        " \n",
        "test_pred = xgb.predict(X_test)\n",
        "test_acc = accuracy_score(y_test,test_pred)\n",
        "print('Test Accuracy:', test_acc)\n"
      ]
    },
    {
      "cell_type": "markdown",
      "id": "f6d79e8c",
      "metadata": {
        "papermill": {
          "duration": 0.040796,
          "end_time": "2022-05-08T09:52:05.071414",
          "exception": false,
          "start_time": "2022-05-08T09:52:05.030618",
          "status": "completed"
        },
        "tags": [],
        "id": "f6d79e8c"
      },
      "source": [
        "<h2 style=\"background-color:#101820FF;font-family:newtimeroman;font-size:250%;text-align:center;border-radius: 10px 10px;color:#FEE715FF\">What's Next?</h2>\n",
        "\n",
        "* Model can be optimized with different hyperparameters.\n",
        "* A better result can be obtained with AutoML.\n",
        "* Apart from Accuracy, other metrics should also be checked.\n",
        "\n",
        "You can do the above by using this notebook instead of leaving comments like \"okay, good, can be improved\" etc. by looking at this notebook.\n",
        "Let's get into action! Have Fun!\n",
        "If you have any questions or ideas, please do not forget to write a comment."
      ]
    }
  ],
  "metadata": {
    "kernelspec": {
      "display_name": "Python 3",
      "language": "python",
      "name": "python3"
    },
    "language_info": {
      "codemirror_mode": {
        "name": "ipython",
        "version": 3
      },
      "file_extension": ".py",
      "mimetype": "text/x-python",
      "name": "python",
      "nbconvert_exporter": "python",
      "pygments_lexer": "ipython3",
      "version": "3.7.12"
    },
    "papermill": {
      "default_parameters": {},
      "duration": 47.624341,
      "end_time": "2022-05-08T09:52:06.237652",
      "environment_variables": {},
      "exception": null,
      "input_path": "__notebook__.ipynb",
      "output_path": "__notebook__.ipynb",
      "parameters": {},
      "start_time": "2022-05-08T09:51:18.613311",
      "version": "2.3.4"
    },
    "colab": {
      "name": "date-fruit-classification-tuned-xgboost.ipynb",
      "provenance": []
    }
  },
  "nbformat": 4,
  "nbformat_minor": 5
}